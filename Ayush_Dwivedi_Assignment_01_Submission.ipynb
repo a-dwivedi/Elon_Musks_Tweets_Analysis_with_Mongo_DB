{
 "cells": [
  {
   "cell_type": "markdown",
   "metadata": {},
   "source": [
    "# Assignment 01 - Mongo\n",
    "*DBMS for Analytics*\n",
    "\n",
    "**Due: Tuesday, February 10th, at midnight**"
   ]
  },
  {
   "cell_type": "markdown",
   "metadata": {},
   "source": [
    "*Notes:*\n",
    " - All code should follow the PEP 8 Style Guide for Python\n",
    " - Assignment should be submitted using jupyter notebooks\n",
    "  - File name should follow “{Your Name} – Assignment_XX_Submission”\n",
    "  - Each Task should be contained in its own cell\n",
    "  - Each Task should be properly commented\n",
    "  - Each Task should print out the answer to the Task if appropriate\n",
    "  - Sample submission can be found on blackboard\n",
    "  - **Not following these standards may result in lost points**"
   ]
  },
  {
   "cell_type": "markdown",
   "metadata": {},
   "source": [
    "---\n",
    "## Assignment Description\n",
    "For this assignment we are going to use our Mongo database of Elon Musk tweets to identify whether Elon is more/less active on twitter during the weeks leading up to a major event.\n",
    "\n",
    "To accomplish this, we will need to implement the following:\n",
    " 1. Create a method to pull tweets that occured within a set timerange from a given date\n",
    " 2. Create a method to randomly pull ranges of tweets (when blacking out certain ranges)\n",
    " 3. Pull data from each respective approach to create event_tweets and non_event_tweet datasets\n",
    " 4. Use a variety of analysis tools to determine the relationship between the two datasets"
   ]
  },
  {
   "cell_type": "code",
   "execution_count": 2,
   "metadata": {},
   "outputs": [],
   "source": [
    "import numpy as np\n",
    "from datetime import datetime, timedelta\n",
    "\n",
    "from pymongo import MongoClient\n",
    "\n",
    "client = MongoClient(host='18.219.151.47', #host is the hostname for the database\n",
    "                     port=27017, #port is the port number that mongo is running on\n",
    "                     username='student', #username for the db\n",
    "                     password='emse6992pass', #password for the db\n",
    "                     authSource='emse6992') #Since our user only exists for the emse6992 db, we need to specify this\n",
    "\n",
    "db = client.emse6992\n",
    "stats_coll = db.twitter_statuses"
   ]
  },
  {
   "cell_type": "markdown",
   "metadata": {},
   "source": [
    "## Task 1\n",
    "Write a function, ***get_tweets_daterange(screen_name, date, days_before, days_after)***, that takes a user's **screen_name** and will pull all tweets that occur *x* **days_before** and *y* **days_after** the provided **date** from the ***twitter_statuses*** collection for the given user.\n",
    "\n",
    "Example:\n",
    "`get_tweets_daterange('elonmusk', \"2020-10-28\", 14, 14)` would get all tweets made by *elonmusk* between 2020-10-14 - 2020-11-11 from the ***twitter_statuses*** collection, which should return 33 tweets."
   ]
  },
  {
   "cell_type": "code",
   "execution_count": 3,
   "metadata": {},
   "outputs": [
    {
     "name": "stdout",
     "output_type": "stream",
     "text": [
      "Date Entered: 2020-10-28 00:00:00\n",
      "Date 14 days before date 2020-10-14 00:00:00\n",
      "Date 14 days after date 2020-11-11 00:00:00\n"
     ]
    },
    {
     "name": "stderr",
     "output_type": "stream",
     "text": [
      "<ipython-input-3-2d164860dcb8>:51: DeprecationWarning: count is deprecated. Use Collection.count_documents instead.\n",
      "  result_count = doc.count()\n"
     ]
    },
    {
     "name": "stdout",
     "output_type": "stream",
     "text": [
      "Total number of tweets in the time period: 33\n",
      "Average number of tweets per weeks are : 8.25\n",
      "Average number of characters per weeks are : 638.75\n"
     ]
    },
    {
     "data": {
      "text/plain": [
       "(8.25, 638.75)"
      ]
     },
     "execution_count": 3,
     "metadata": {},
     "output_type": "execute_result"
    }
   ],
   "source": [
    "import datetime\n",
    "import json\n",
    "from bson import json_util\n",
    "import datetime\n",
    "status_collection = db.twitter_statuses\n",
    "\n",
    "\n",
    "def get_tweets_daterange(screen_name, date, days_before, days_after):\n",
    "    \"\"\"This function returns a list of tweets that fall inbetween date-days_before\n",
    "    and date + days_after\n",
    "    \n",
    "    Args:\n",
    "        screen_name (str): screen name of twitter user\n",
    "        date (str): Date in the 'YYYY-MM-DD' format\n",
    "        days_before (int): number of days prior to `date` to consider\n",
    "        days_after (int): number of days after `date` to consider\n",
    "        \n",
    "    Returns:\n",
    "        list: A list of all the tweets that meet the conditions\n",
    "    \"\"\"\n",
    "    \n",
    "    # Your code\n",
    "    \n",
    "    #taking the date as the input\n",
    "    date_1 = datetime.datetime.strptime(date, \"%y/%m/%d\")\n",
    "    print(\"Date Entered:\",date_1)\n",
    "    \n",
    "    #Calculating the date before the number of days\n",
    "    days_before_date = date_1 - datetime.timedelta(days=days_before)\n",
    "    print(\"Date %d days before date\" %(days_before),days_before_date)\n",
    "    \n",
    "    #Calculating the date after the number of days\n",
    "    days_after_date = date_1 + datetime.timedelta(days=days_after)\n",
    "    print(\"Date %d days after date\" %(days_after),days_after_date)\n",
    "    \n",
    "    #calculating the total number of days between two dates\n",
    "    number_of_days = (days_after_date - days_before_date)\n",
    "    total_days = number_of_days.total_seconds()\n",
    "    #print(number_of_days.total_seconds())\n",
    "    day = int((total_days) // (24 * 3600))\n",
    "    weeks = int(((day+1)/7))\n",
    "    #print(day)\n",
    "    #print(weeks)\n",
    "    \n",
    "    #Query to fetch the data from the database\n",
    "    \n",
    "    myquery = {\"$and\":[{\"user.screen_name\":screen_name},{\"created_at\":{ \"$gte\":days_before_date, \"$lt\":days_after_date}}]}\n",
    "    doc = status_collection.find(myquery)\n",
    "    \n",
    "    #counting the total number of tweets between two specific dates\n",
    "    result_count = doc.count()\n",
    "    print(\"Total number of tweets in the time period:\",result_count)\n",
    "    \n",
    "    #Calculating the average number of tweets per week\n",
    "    avg_tweets = (result_count/weeks)\n",
    "    print(\"Average number of tweets per weeks are :\",avg_tweets)\n",
    "    \n",
    "    #Calculating the average number of characters per week\n",
    "    sentences=[]\n",
    "    for docs in doc:\n",
    "        sentences.append(docs['text'])\n",
    "    #print(sentences)\n",
    "    sent_str = \"\"\n",
    "    for i in sentences:\n",
    "        sent_str += str(i)\n",
    "    sent_str = sent_str[:-1]\n",
    "    #print(len(sent_str))\n",
    "    characters=len(sent_str)\n",
    "    avg_char = (characters/weeks)\n",
    "    print(\"Average number of characters per weeks are :\",avg_char)\n",
    "    \n",
    "    return avg_tweets,avg_char \n",
    "\n",
    "\n",
    "\n",
    "get_tweets_daterange('elonmusk',\"20/10/28\",14,14)\n",
    "#get_tweets_daterange('elonmusk',\"20/1/28\",14,14)"
   ]
  },
  {
   "cell_type": "markdown",
   "metadata": {},
   "source": [
    "## Task 2\n",
    "Write a function, ***get_random_date(min_date, max_date)***, that will generate a random date that falls within **min_date** and **max_date**.\n",
    "\n",
    "Ensure the output of this function conforms to the _\"YYYY-MM-DD\"_ format used for the **get_tweets_daterange()**."
   ]
  },
  {
   "cell_type": "code",
   "execution_count": 25,
   "metadata": {},
   "outputs": [],
   "source": [
    "import random"
   ]
  },
  {
   "cell_type": "code",
   "execution_count": 8,
   "metadata": {},
   "outputs": [
    {
     "name": "stdout",
     "output_type": "stream",
     "text": [
      "2020-12-11 12:49:30\n"
     ]
    }
   ],
   "source": [
    "# Space work\n",
    "from random import randrange\n",
    "from datetime import timedelta\n",
    "from datetime import datetime\n",
    "\n",
    "#random.seed(10) # To provide consistent randomness\n",
    "\n",
    "def get_random_date(min_date, max_date):\n",
    "    \"\"\"This function returns a random date inbetween min_date and max_date\n",
    "    \n",
    "    Args:\n",
    "        min_date (str): Earliset date to consider - in the 'YYYY-MM-DD' format\n",
    "        max_date (str): Latest date to consider - in the 'YYYY-MM-DD' format\n",
    "        \n",
    "    Returns:\n",
    "        str: Random date - in the 'YYYY-MM-DD' format\n",
    "    \"\"\"\n",
    "    \n",
    "    # Your code\n",
    "    \n",
    "    #generating random date between two given dates\n",
    "    delta = max_date - min_date\n",
    "    int_delta = (delta.days * 24 * 60 * 60) + delta.seconds\n",
    "    random_second = randrange(int_delta)\n",
    "    return min_date + timedelta(seconds=random_second)\n",
    "\n",
    "\n",
    "#Doing a test run to check for the random date generated\n",
    "\n",
    "d1 = datetime.strptime('2020/01/10', '%Y/%m/%d')\n",
    "d2 = datetime.strptime('2021/01/02', '%Y/%m/%d')\n",
    "\n",
    "print(get_random_date(d1, d2))"
   ]
  },
  {
   "cell_type": "markdown",
   "metadata": {},
   "source": [
    "## Task 3\n",
    "Using the two functions from task 1 & 2, create two datasets using `days_before = 14`, `dayse_after = 7` and `screen_name = 'elonmusk'`.\n",
    " - `major_events_dataset` - a collection of **get_tweets_daterange()** for the provided **major_events**\n",
    " - `random_events_dataset` - a collection of **get_tweets_daterange()** for at least 10 randomly generated dats\n",
    "   - Use `min_date = \"2020-01-01\"` and `max_date = \"2021-01-01\"` for all calls to **get_random_date()**\n",
    "   \n",
    "Each dataset should be a python list where each element in the list is a result from **get_tweets_daterange()**\n",
    "\n",
    "Example:\n",
    "```python\n",
    "major_events_dataset = [\n",
    "    get_tweets_daterange(...,\"2020-10-28\",...),\n",
    "    get_tweets_daterange(...,\"2020-05-30\",...),\n",
    "    ....\n",
    "]\n",
    "```"
   ]
  },
  {
   "cell_type": "code",
   "execution_count": 338,
   "metadata": {},
   "outputs": [
    {
     "name": "stdout",
     "output_type": "stream",
     "text": [
      "20/10/28\n",
      "Date Entered: 2020-10-28 00:00:00\n",
      "Date 14 days before date 2020-10-14 00:00:00\n",
      "Date 7 days after date 2020-11-04 00:00:00\n",
      "Total number of tweets in the time period: 17\n",
      "Average number of tweets per weeks are : 5.666666666666667\n"
     ]
    },
    {
     "name": "stderr",
     "output_type": "stream",
     "text": [
      "<ipython-input-336-ad80228e3f93>:41: DeprecationWarning: count is deprecated. Use Collection.count_documents instead.\n",
      "  result_count = doc.count()\n"
     ]
    },
    {
     "name": "stdout",
     "output_type": "stream",
     "text": [
      "Average number of characters per weeks are : 434.6666666666667\n",
      "20/05/30\n",
      "Date Entered: 2020-05-30 00:00:00\n",
      "Date 14 days before date 2020-05-16 00:00:00\n",
      "Date 7 days after date 2020-06-06 00:00:00\n",
      "Total number of tweets in the time period: 43\n",
      "Average number of tweets per weeks are : 14.333333333333334\n",
      "Average number of characters per weeks are : 1258.6666666666667\n",
      "21/01/07\n",
      "Date Entered: 2021-01-07 00:00:00\n",
      "Date 14 days before date 2020-12-24 00:00:00\n",
      "Date 7 days after date 2021-01-14 00:00:00\n",
      "Total number of tweets in the time period: 23\n",
      "Average number of tweets per weeks are : 7.666666666666667\n",
      "Average number of characters per weeks are : 575.3333333333334\n"
     ]
    }
   ],
   "source": [
    "#Data bases with counts for the major events\n",
    "\n",
    "major_events = [\"2020-10-28\", \"2020-05-30\", \"2021-01-07\"]\n",
    "\n",
    "#creating seperate databases corresponding to the given major_events\n",
    "\n",
    "for item in major_events:\n",
    "    date_1 = datetime.datetime.strptime(item, '%Y-%m-%d')\n",
    "    date_2= datetime.date.strftime(date_1, \"%y/%m/%d\")\n",
    "    print(date_2)\n",
    "    get_tweets_daterange('elonmusk',date_2,14,7)\n"
   ]
  },
  {
   "cell_type": "code",
   "execution_count": 339,
   "metadata": {},
   "outputs": [
    {
     "name": "stdout",
     "output_type": "stream",
     "text": [
      "2020-10-19 02:05:13\n",
      "2020-11-09 17:51:08\n",
      "2020-11-09 08:46:38\n",
      "2020-10-29 12:43:32\n",
      "2020-10-17 23:28:40\n",
      "2020-11-06 15:04:07\n",
      "2020-10-26 14:57:30\n",
      "2020-10-18 01:28:51\n",
      "2020-10-29 15:57:48\n",
      "2020-11-07 06:10:02\n",
      "20/10/19\n",
      "Date Entered: 2020-10-19 00:00:00\n",
      "Date 14 days before date 2020-10-05 00:00:00\n",
      "Date 7 days after date 2020-10-26 00:00:00\n",
      "Total number of tweets in the time period: 25\n",
      "Average number of tweets per weeks are : 8.333333333333334\n"
     ]
    },
    {
     "name": "stderr",
     "output_type": "stream",
     "text": [
      "<ipython-input-336-ad80228e3f93>:41: DeprecationWarning: count is deprecated. Use Collection.count_documents instead.\n",
      "  result_count = doc.count()\n"
     ]
    },
    {
     "name": "stdout",
     "output_type": "stream",
     "text": [
      "Average number of characters per weeks are : 815.6666666666666\n",
      "20/11/09\n",
      "Date Entered: 2020-11-09 00:00:00\n",
      "Date 14 days before date 2020-10-26 00:00:00\n",
      "Date 7 days after date 2020-11-16 00:00:00\n",
      "Total number of tweets in the time period: 48\n",
      "Average number of tweets per weeks are : 16.0\n",
      "Average number of characters per weeks are : 1446.6666666666667\n",
      "20/11/09\n",
      "Date Entered: 2020-11-09 00:00:00\n",
      "Date 14 days before date 2020-10-26 00:00:00\n",
      "Date 7 days after date 2020-11-16 00:00:00\n",
      "Total number of tweets in the time period: 48\n",
      "Average number of tweets per weeks are : 16.0\n",
      "Average number of characters per weeks are : 1446.6666666666667\n",
      "20/10/29\n",
      "Date Entered: 2020-10-29 00:00:00\n",
      "Date 14 days before date 2020-10-15 00:00:00\n",
      "Date 7 days after date 2020-11-05 00:00:00\n",
      "Total number of tweets in the time period: 14\n",
      "Average number of tweets per weeks are : 4.666666666666667\n",
      "Average number of characters per weeks are : 353.6666666666667\n",
      "20/10/17\n",
      "Date Entered: 2020-10-17 00:00:00\n",
      "Date 14 days before date 2020-10-03 00:00:00\n",
      "Date 7 days after date 2020-10-24 00:00:00\n",
      "Total number of tweets in the time period: 28\n",
      "Average number of tweets per weeks are : 9.333333333333334\n",
      "Average number of characters per weeks are : 859.0\n",
      "20/11/06\n",
      "Date Entered: 2020-11-06 00:00:00\n",
      "Date 14 days before date 2020-10-23 00:00:00\n",
      "Date 7 days after date 2020-11-13 00:00:00\n",
      "Total number of tweets in the time period: 28\n",
      "Average number of tweets per weeks are : 9.333333333333334\n",
      "Average number of characters per weeks are : 709.6666666666666\n",
      "20/10/26\n",
      "Date Entered: 2020-10-26 00:00:00\n",
      "Date 14 days before date 2020-10-12 00:00:00\n",
      "Date 7 days after date 2020-11-02 00:00:00\n",
      "Total number of tweets in the time period: 18\n",
      "Average number of tweets per weeks are : 6.0\n",
      "Average number of characters per weeks are : 487.6666666666667\n",
      "20/10/18\n",
      "Date Entered: 2020-10-18 00:00:00\n",
      "Date 14 days before date 2020-10-04 00:00:00\n",
      "Date 7 days after date 2020-10-25 00:00:00\n",
      "Total number of tweets in the time period: 29\n",
      "Average number of tweets per weeks are : 9.666666666666666\n",
      "Average number of characters per weeks are : 876.3333333333334\n",
      "20/10/29\n",
      "Date Entered: 2020-10-29 00:00:00\n",
      "Date 14 days before date 2020-10-15 00:00:00\n",
      "Date 7 days after date 2020-11-05 00:00:00\n",
      "Total number of tweets in the time period: 14\n",
      "Average number of tweets per weeks are : 4.666666666666667\n",
      "Average number of characters per weeks are : 353.6666666666667\n",
      "20/11/07\n",
      "Date Entered: 2020-11-07 00:00:00\n",
      "Date 14 days before date 2020-10-24 00:00:00\n",
      "Date 7 days after date 2020-11-14 00:00:00\n",
      "Total number of tweets in the time period: 33\n",
      "Average number of tweets per weeks are : 11.0\n",
      "Average number of characters per weeks are : 835.3333333333334\n"
     ]
    }
   ],
   "source": [
    "#Data bases with counts for the Randomly generated dates\n",
    "\n",
    "import datetime\n",
    "\n",
    "min_date = datetime.datetime.strptime('20/01/01', '%y/%m/%d')\n",
    "#print(min_date)\n",
    "max_date = datetime.datetime.strptime('21/01/01', '%y/%m/%d')\n",
    "#print(max_date)\n",
    "\n",
    "#creating a list of random dates\n",
    "\n",
    "random_dates=[]\n",
    "for item in range(10):\n",
    "    random_dates.append(get_random_date(min_date, max_date))\n",
    "\n",
    "for item in random_dates:\n",
    "    print(item)\n",
    "  \n",
    "# creating a list of seperate databases corresponding to the given random events\n",
    "\n",
    "for item in random_dates:\n",
    "    item=str(item)\n",
    "    date_1 = datetime.datetime.strptime(item, '%Y-%m-%d %H:%M:%S')\n",
    "    date_2= datetime.date.strftime(date_1, \"%y/%m/%d\")\n",
    "    print(date_2)\n",
    "    get_tweets_daterange('elonmusk',date_2,14,7)\n",
    "    "
   ]
  },
  {
   "cell_type": "markdown",
   "metadata": {},
   "source": [
    "## Task 4\n",
    "From each dataset, create a histogram of the average tweets/week for each daterange.\n",
    "\n",
    "This means the histogram for the major_events_dataset would only comprise of 3 values:\n",
    " - The avg. tweets/week for 2020-10-28, 2020-05-30, and 20201-01-07.\n",
    " \n",
    "For the major events you should get `[5.666666666666667, 14.333333333333334, 7.666666666666667]`\n",
    "\n",
    "_Note: For this you are welcome to use matplotlib, seaborn, or any other python plotting package._"
   ]
  },
  {
   "cell_type": "code",
   "execution_count": 351,
   "metadata": {},
   "outputs": [
    {
     "name": "stdout",
     "output_type": "stream",
     "text": [
      "20/10/28\n",
      "Date Entered: 2020-10-28 00:00:00\n",
      "Date 14 days before date 2020-10-14 00:00:00\n",
      "Date 7 days after date 2020-11-04 00:00:00\n",
      "Total number of tweets in the time period: 17\n",
      "Average number of tweets per weeks are : 5.666666666666667\n"
     ]
    },
    {
     "name": "stderr",
     "output_type": "stream",
     "text": [
      "<ipython-input-342-4463a42e1b78>:41: DeprecationWarning: count is deprecated. Use Collection.count_documents instead.\n",
      "  result_count = doc.count()\n"
     ]
    },
    {
     "name": "stdout",
     "output_type": "stream",
     "text": [
      "Average number of characters per weeks are : 434.6666666666667\n",
      "20/05/30\n",
      "Date Entered: 2020-05-30 00:00:00\n",
      "Date 14 days before date 2020-05-16 00:00:00\n",
      "Date 7 days after date 2020-06-06 00:00:00\n",
      "Total number of tweets in the time period: 43\n",
      "Average number of tweets per weeks are : 14.333333333333334\n",
      "Average number of characters per weeks are : 1258.6666666666667\n",
      "21/01/07\n",
      "Date Entered: 2021-01-07 00:00:00\n",
      "Date 14 days before date 2020-12-24 00:00:00\n",
      "Date 7 days after date 2021-01-14 00:00:00\n",
      "Total number of tweets in the time period: 23\n",
      "Average number of tweets per weeks are : 7.666666666666667\n",
      "Average number of characters per weeks are : 575.3333333333334\n",
      "(14.333333333333334, 1258.6666666666667)\n",
      "[ 5.66666667 14.33333333  7.66666667]\n"
     ]
    },
    {
     "data": {
      "text/plain": [
       "Text(0, 0.5, 'Average number of tweets')"
      ]
     },
     "execution_count": 351,
     "metadata": {},
     "output_type": "execute_result"
    },
    {
     "data": {
      "image/png": "[encoded data removed]",
      "text/plain": [
       "<Figure size 432x288 with 1 Axes>"
      ]
     },
     "metadata": {
      "needs_background": "light"
     },
     "output_type": "display_data"
    }
   ],
   "source": [
    "major_events = [\"2020-10-28\", \"2020-05-30\", \"2021-01-07\"]\n",
    "\n",
    "#Calculating the average number of tweets around the given major events dates\n",
    "#in the window frame of the dates\n",
    "\n",
    "value_returned = []\n",
    "for item in major_events:\n",
    "    date_1 = datetime.datetime.strptime(item, '%Y-%m-%d')\n",
    "    date_2= datetime.date.strftime(date_1, \"%y/%m/%d\")\n",
    "    print(date_2)\n",
    "    value_returned.append(get_tweets_daterange('elonmusk',date_2,14,7))\n",
    "\n",
    "print(value_returned[1])\n",
    "\n",
    "#Converting the list into numpy array to extract values of a single column\n",
    "    \n",
    "import numpy as np\n",
    "B = np.array(value_returned)\n",
    "print(B[:,0])\n",
    "avg_count_per_week=(B[:,0]) \n",
    "    \n",
    "#Plotting the graph of major events vs Avg number of tweets\n",
    "\n",
    "import matplotlib.pyplot as plt\n",
    "import numpy as np\n",
    "\n",
    "plt.figure(1)\n",
    "plt.plot(major_events,avg_count_per_week)\n",
    "plt.suptitle('Average number of tweets per week around major events')\n",
    "plt.xlabel('Major events')\n",
    "plt.ylabel('Average number of tweets')"
   ]
  },
  {
   "cell_type": "markdown",
   "metadata": {},
   "source": [
    "# Task 5\n",
    "Repeat the steps for Task 4, but this time plot the data based on average characters/week for each daterange.\n",
    "\n",
    "For the major events you should get `[435.0, 1259.0, 575.6666666666666]`"
   ]
  },
  {
   "cell_type": "code",
   "execution_count": 352,
   "metadata": {},
   "outputs": [
    {
     "name": "stdout",
     "output_type": "stream",
     "text": [
      "20/10/28\n",
      "Date Entered: 2020-10-28 00:00:00\n",
      "Date 14 days before date 2020-10-14 00:00:00\n",
      "Date 7 days after date 2020-11-04 00:00:00\n",
      "Total number of tweets in the time period: 17\n",
      "Average number of tweets per weeks are : 5.666666666666667\n"
     ]
    },
    {
     "name": "stderr",
     "output_type": "stream",
     "text": [
      "<ipython-input-342-4463a42e1b78>:41: DeprecationWarning: count is deprecated. Use Collection.count_documents instead.\n",
      "  result_count = doc.count()\n"
     ]
    },
    {
     "name": "stdout",
     "output_type": "stream",
     "text": [
      "Average number of characters per weeks are : 434.6666666666667\n",
      "20/05/30\n",
      "Date Entered: 2020-05-30 00:00:00\n",
      "Date 14 days before date 2020-05-16 00:00:00\n",
      "Date 7 days after date 2020-06-06 00:00:00\n",
      "Total number of tweets in the time period: 43\n",
      "Average number of tweets per weeks are : 14.333333333333334\n",
      "Average number of characters per weeks are : 1258.6666666666667\n",
      "21/01/07\n",
      "Date Entered: 2021-01-07 00:00:00\n",
      "Date 14 days before date 2020-12-24 00:00:00\n",
      "Date 7 days after date 2021-01-14 00:00:00\n",
      "Total number of tweets in the time period: 23\n",
      "Average number of tweets per weeks are : 7.666666666666667\n",
      "Average number of characters per weeks are : 575.3333333333334\n",
      "(14.333333333333334, 1258.6666666666667)\n",
      "[[   5.66666667  434.66666667]\n",
      " [  14.33333333 1258.66666667]\n",
      " [   7.66666667  575.33333333]]\n",
      "[ 434.66666667 1258.66666667  575.33333333]\n"
     ]
    },
    {
     "data": {
      "text/plain": [
       "Text(0, 0.5, 'Average number of characters per week')"
      ]
     },
     "execution_count": 352,
     "metadata": {},
     "output_type": "execute_result"
    },
    {
     "data": {
      "image/png": "[encoded data removed]",
      "text/plain": [
       "<Figure size 432x288 with 1 Axes>"
      ]
     },
     "metadata": {
      "needs_background": "light"
     },
     "output_type": "display_data"
    }
   ],
   "source": [
    "major_events = [\"2020-10-28\", \"2020-05-30\", \"2021-01-07\"]\n",
    "value_returned_char = []\n",
    "\n",
    "#fetching the average number of characters per week on major events\n",
    "\n",
    "for item in major_events:\n",
    "    date_1 = datetime.datetime.strptime(item, '%Y-%m-%d')\n",
    "    date_2= datetime.date.strftime(date_1, \"%y/%m/%d\")\n",
    "    print(date_2)\n",
    "    value_returned_char.append(get_tweets_daterange('elonmusk',date_2,14,7))\n",
    "\n",
    "    \n",
    "print(value_returned_char[1])\n",
    "\n",
    "#Converting the values to numpy array so as to access a single column\n",
    "\n",
    "import numpy as np\n",
    "A = np.array(value_returned_char)\n",
    "print(A)\n",
    "print(A[:,1])\n",
    "\n",
    "avg_chara_per_week=(A[:,1]) \n",
    "\n",
    "#Plotting the graphs for avergae number of characters per week vs the major events that occured \n",
    "\n",
    "import matplotlib.pyplot as plt\n",
    "import numpy as np\n",
    "\n",
    "plt.figure(1)\n",
    "plt.plot(major_events,avg_chara_per_week)\n",
    "plt.suptitle('Average number of characters around major events')\n",
    "plt.xlabel('Major events')\n",
    "plt.ylabel('Average number of characters per week')"
   ]
  },
  {
   "cell_type": "markdown",
   "metadata": {},
   "source": [
    "## Task 6\n",
    "Answer the following questions in the cell below using markdown.\n",
    " 1. From the data, do you believe Elon was more/less active during major events? Please support your position using evidence from the previous tasks.\n",
    " 2. What could we do to improve this experiment?\n",
    "   - Your response could talk about data collection/aggregation, method of analysis, etc."
   ]
  },
  {
   "cell_type": "markdown",
   "metadata": {},
   "source": [
    "Your response:"
   ]
  },
  {
   "cell_type": "markdown",
   "metadata": {},
   "source": [
    "1. So as per the data obtained we can see that during major events which were primarily Oct 28,May 30 and January7 we can see that the average count of tweets from elon musk during approximately per weeks sorrounding these events was 5.6,14.3, and 7.6 which roughly means that Elon musk is less active during the major events because 5.6 tweets per week mean that he is tweeting maximum one tweet per day or may be maximum two tweets aorund the major event of May 30 so these tweets are actually less than the usual per week tweets that he does around random dates which range anywhere near 16.0 on Nov 9 to 6.0 on Oct 26. So yes Elon musk does stay less active near the main events.\n",
    "2. We can improve this experiment by add more sources of data like it might be possible that during the main events Elon musk gives more interviews on youtube or to news channels instead of tweeting. So we should look out for other occurances of his activities over the internet like his newly uploaded Interview Transcripts as that will lead to further improvement in our experiment. "
   ]
  },
  {
   "cell_type": "code",
   "execution_count": null,
   "metadata": {},
   "outputs": [],
   "source": []
  }
 ],
 "metadata": {
  "kernelspec": {
   "display_name": "Python 3",
   "language": "python",
   "name": "python3"
  },
  "language_info": {
   "codemirror_mode": {
    "name": "ipython",
    "version": 3
   },
   "file_extension": ".py",
   "mimetype": "text/x-python",
   "name": "python",
   "nbconvert_exporter": "python",
   "pygments_lexer": "ipython3",
   "version": "3.8.5"
  }
 },
 "nbformat": 4,
 "nbformat_minor": 4
}
